{
 "cells": [
  {
   "cell_type": "code",
   "execution_count": 1,
   "metadata": {},
   "outputs": [],
   "source": [
    "import pandas as pd\n",
    "GIFT_AMOUNT = pd.read_excel(r'C:\\Users\\sithara\\Desktop\\Philanthrophy\\File\\Management_final_1.xlsx')"
   ]
  },
  {
   "cell_type": "code",
   "execution_count": 2,
   "metadata": {},
   "outputs": [],
   "source": [
    "df = pd.DataFrame(GIFT_AMOUNT,columns=['NO_EVENTS_2017_NEW','GIFT_AMOUNT_2018_NEW','GIFT_AMOUNT_2017_NEW','GIFT_AMOUNT_2016_NEW','GIFT_AMOUNT_2015_NEW','LIFETIME_RECOGNITION_AMT_NEW','ZIPCODE_NEW'])"
   ]
  },
  {
   "cell_type": "code",
   "execution_count": 3,
   "metadata": {},
   "outputs": [
    {
     "name": "stdout",
     "output_type": "stream",
     "text": [
      "   NO_EVENTS_2017_NEW  GIFT_AMOUNT_2018_NEW  GIFT_AMOUNT_2017_NEW  \\\n",
      "0                   0                   0.0                 300.0   \n",
      "1                   0                  25.0                   0.0   \n",
      "2                   0                   0.0                   0.0   \n",
      "3                   0                   0.0                   0.0   \n",
      "4                   0                   0.0                   0.0   \n",
      "\n",
      "   GIFT_AMOUNT_2016_NEW  GIFT_AMOUNT_2015_NEW  LIFETIME_RECOGNITION_AMT_NEW  \\\n",
      "0                   0.0                 100.0                       2470.00   \n",
      "1                   0.0                   0.0                        522.00   \n",
      "2                   0.0                   0.0                         19.92   \n",
      "3                   0.0                   0.0                        155.00   \n",
      "4                   0.0                   0.0                         30.00   \n",
      "\n",
      "   ZIPCODE_NEW_10031  ZIPCODE_NEW_10105  ZIPCODE_NEW_11111  ZIPCODE_NEW_12009  \n",
      "0                  1                  0                  0                  0  \n",
      "1                  0                  0                  1                  0  \n",
      "2                  0                  0                  1                  0  \n",
      "3                  1                  0                  0                  0  \n",
      "4                  0                  0                  1                  0  \n"
     ]
    }
   ],
   "source": [
    "#create dummy for category variables\n",
    "ga = df.copy()\n",
    "ga = pd.get_dummies (ga,columns=['ZIPCODE_NEW'])\n",
    "print(ga.head())"
   ]
  },
  {
   "cell_type": "code",
   "execution_count": 4,
   "metadata": {},
   "outputs": [],
   "source": [
    "predictor_cols = list(ga.columns.values[2:])\n",
    "x = ga[predictor_cols]\n",
    "y = ga[['GIFT_AMOUNT_2018_NEW']]"
   ]
  },
  {
   "cell_type": "code",
   "execution_count": 5,
   "metadata": {},
   "outputs": [
    {
     "data": {
      "text/plain": [
       "['GIFT_AMOUNT_2017_NEW',\n",
       " 'GIFT_AMOUNT_2016_NEW',\n",
       " 'GIFT_AMOUNT_2015_NEW',\n",
       " 'LIFETIME_RECOGNITION_AMT_NEW',\n",
       " 'ZIPCODE_NEW_10031',\n",
       " 'ZIPCODE_NEW_10105',\n",
       " 'ZIPCODE_NEW_11111',\n",
       " 'ZIPCODE_NEW_12009']"
      ]
     },
     "execution_count": 5,
     "metadata": {},
     "output_type": "execute_result"
    }
   ],
   "source": [
    "predictor_cols"
   ]
  },
  {
   "cell_type": "code",
   "execution_count": 6,
   "metadata": {},
   "outputs": [],
   "source": [
    "from sklearn.neural_network import MLPRegressor\n",
    "#x = ga[['GIFT_AMOUNT_2017_NEW','GIFT_AMOUNT_2016_NEW','GIFT_AMOUNT_2015_NEW','LIFETIME_RECOGNITION_AMT_NEW','ZIPCODE_NEW']]\n",
    "reg = MLPRegressor(hidden_layer_sizes=(20,),  activation='logistic', solver='adam',    alpha=0.001,batch_size='auto',\n",
    "               learning_rate='invscaling', learning_rate_init=0.01, power_t=0.5, max_iter=1000, shuffle=True,\n",
    "               random_state=42, tol=0.0001, verbose=False, warm_start=False, momentum=0.9,\n",
    "               nesterovs_momentum=True, early_stopping=False, validation_fraction=0.1, beta_1=0.9, beta_2=0.999,\n",
    "               epsilon=1e-08)"
   ]
  },
  {
   "cell_type": "code",
   "execution_count": 7,
   "metadata": {},
   "outputs": [
    {
     "data": {
      "text/plain": [
       "0.010005204628188435"
      ]
     },
     "execution_count": 7,
     "metadata": {},
     "output_type": "execute_result"
    }
   ],
   "source": [
    "import numpy as np\n",
    "import matplotlib.pyplot as plt\n",
    "\n",
    "Y = np.ravel(y)\n",
    "Y=Y.astype('int')\n",
    "reg = reg.fit(x, Y)\n",
    "reg.score(x, Y)"
   ]
  },
  {
   "cell_type": "code",
   "execution_count": 8,
   "metadata": {},
   "outputs": [
    {
     "name": "stdout",
     "output_type": "stream",
     "text": [
      "Mean Square Error: 475492.1128778806\n"
     ]
    }
   ],
   "source": [
    "from sklearn import metrics as ms\n",
    "predictions = reg.predict(x)\n",
    "print (\"Mean Square Error:\", ms.mean_squared_error(Y,predictions))"
   ]
  },
  {
   "cell_type": "code",
   "execution_count": 9,
   "metadata": {},
   "outputs": [
    {
     "name": "stdout",
     "output_type": "stream",
     "text": [
      "[ 0 25  0 ...  0  0  0] [154.93368525  61.82037334   5.88327275 ...   5.88332017   5.88332017\n",
      "   5.88355358]\n"
     ]
    }
   ],
   "source": [
    "print(Y,predictions)"
   ]
  },
  {
   "cell_type": "code",
   "execution_count": 10,
   "metadata": {},
   "outputs": [
    {
     "name": "stdout",
     "output_type": "stream",
     "text": [
      "<bound method NDFrame.head of        Target  Predicted_Value\n",
      "0           0       154.933685\n",
      "1          25        61.820373\n",
      "2           0         5.883273\n",
      "3           0         9.555535\n",
      "4           0         5.883273\n",
      "5           0         9.555549\n",
      "6           0         5.883282\n",
      "7           0        86.874503\n",
      "8           0         5.883273\n",
      "9           0        35.818128\n",
      "10          0         5.883273\n",
      "11          0         5.883272\n",
      "12          0       117.830933\n",
      "13          0         5.883273\n",
      "14         25        86.874510\n",
      "15          0         5.883273\n",
      "16          0         9.556657\n",
      "17          0       112.656546\n",
      "18          0        86.874510\n",
      "19          0         9.555591\n",
      "20          0       126.895069\n",
      "21          0        86.874510\n",
      "22         25         5.883275\n",
      "23          0        86.874510\n",
      "24          0         5.883628\n",
      "25          0        86.874510\n",
      "26          0         5.883273\n",
      "27          0        86.874510\n",
      "28          0        60.611932\n",
      "29          0        86.874510\n",
      "...       ...              ...\n",
      "34308       0         5.883320\n",
      "34309       0         5.883320\n",
      "34310       0         5.883320\n",
      "34311       0         5.883320\n",
      "34312       0         5.883463\n",
      "34313       0         5.883320\n",
      "34314       0         5.883320\n",
      "34315       0         5.883554\n",
      "34316       0         5.883320\n",
      "34317       0         5.883320\n",
      "34318       0         5.883320\n",
      "34319       0         5.883320\n",
      "34320       0         5.883320\n",
      "34321       0         5.883320\n",
      "34322       0         5.883320\n",
      "34323       0         5.883320\n",
      "34324       0         5.883320\n",
      "34325       0         5.883320\n",
      "34326       0         5.883320\n",
      "34327       0         5.883320\n",
      "34328       0         5.883320\n",
      "34329       0         5.883320\n",
      "34330       0         5.883320\n",
      "34331       0         5.883320\n",
      "34332       0         5.883320\n",
      "34333       0         5.883320\n",
      "34334       0         5.883320\n",
      "34335       0         5.883320\n",
      "34336       0         5.883320\n",
      "34337       0         5.883554\n",
      "\n",
      "[34338 rows x 2 columns]>\n"
     ]
    }
   ],
   "source": [
    "import pandas as pd\n",
    "my_df = pd.DataFrame()\n",
    "my_df[\"Target\"]=Y\n",
    "my_df[\"Predicted_Value\"] = predictions\n",
    "my_df.to_csv('out12.csv', index=False, header=False)\n",
    "print (my_df.head)"
   ]
  },
  {
   "cell_type": "code",
   "execution_count": 11,
   "metadata": {},
   "outputs": [
    {
     "name": "stdout",
     "output_type": "stream",
     "text": [
      "4409 3395\n"
     ]
    }
   ],
   "source": [
    "count = 0\n",
    "count20 =0\n",
    "i=0\n",
    "for i in range(len(predictions)):\n",
    "    if abs(Y[i]-predictions[i])>10:\n",
    "        if abs(Y[i]-predictions[i])>50:\n",
    "            count20 +=1\n",
    "        #print(Y[i],predictions[i])\n",
    "        count+=1\n",
    "print(count, count20)"
   ]
  },
  {
   "cell_type": "code",
   "execution_count": null,
   "metadata": {},
   "outputs": [],
   "source": []
  }
 ],
 "metadata": {
  "kernelspec": {
   "display_name": "Python 3",
   "language": "python",
   "name": "python3"
  },
  "language_info": {
   "codemirror_mode": {
    "name": "ipython",
    "version": 3
   },
   "file_extension": ".py",
   "mimetype": "text/x-python",
   "name": "python",
   "nbconvert_exporter": "python",
   "pygments_lexer": "ipython3",
   "version": "3.7.1"
  }
 },
 "nbformat": 4,
 "nbformat_minor": 2
}
